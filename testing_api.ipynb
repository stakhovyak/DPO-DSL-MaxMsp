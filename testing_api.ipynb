{
 "cells": [
  {
   "cell_type": "code",
   "execution_count": 4,
   "id": "f782fbf9-8e1f-404b-a772-c0287578ca69",
   "metadata": {},
   "outputs": [],
   "source": [
    "import hypernetx as hnx\n",
    "\n",
    "def to_array_of_arrays(hg_dict: dict) -> list[list[str]]:\n",
    "    return [edge[\"vertices\"] for edge in hg_dict.get(\"hypergraph\", [])]"
   ]
  },
  {
   "cell_type": "code",
   "execution_count": 16,
   "id": "23c71695-a3ec-4d05-bd57-3b052430191a",
   "metadata": {},
   "outputs": [
    {
     "name": "stdout",
     "output_type": "stream",
     "text": [
      "Status: 500\n",
      "{'error': \"Hypergraph.toplexes() got an unexpected keyword argument 'return_hyp'\",\n",
      " 'trace': \"TypeError: Hypergraph.toplexes() got an unexpected keyword argument 'return_hyp'\"}\n"
     ]
    },
    {
     "data": {
      "image/png": "[encoded data removed]",
      "text/plain": [
       "<Figure size 800x800 with 1 Axes>"
      ]
     },
     "metadata": {},
     "output_type": "display_data"
    }
   ],
   "source": [
    "import requests\n",
    "from pprint import pprint\n",
    "\n",
    "url = \"http://127.0.0.1:8000/evolve\"\n",
    "\n",
    "payload = {\n",
    "    \"hypergraph\": [\n",
    "        {\"vertices\": [\"A\", \"B\"]}\n",
    "    ],\n",
    "    \"rule\": {\n",
    "        \"L\": [\n",
    "            {\"vertices\": [\"x\", \"y\"]}\n",
    "        ],\n",
    "        \"I\": [\n",
    "            {\"vertices\": [\"x\", \"y\"]}\n",
    "        ],\n",
    "        \"R\": [\n",
    "            {\"vertices\": [\"x\", \"y\"]},\n",
    "            {\"vertices\": [\"x\", \"m1\"]}, \n",
    "            {\"vertices\": [\"m1\", \"m2\"]},\n",
    "            {\"vertices\": [\"m2\", \"y\"]}, \n",
    "            {\"vertices\": [\"m1\", \"u\"]}, \n",
    "            {\"vertices\": [\"m2\", \"v\"]}, \n",
    "            {\"vertices\": [\"u\"]},       \n",
    "            {\"vertices\": [\"v\"]}      \n",
    "        ]\n",
    "    },\n",
    "    \"steps\": 1,    \n",
    "    \"clean\": True\n",
    "}\n",
    "\n",
    "resp = requests.post(url, json=payload)\n",
    "print(\"Status:\", resp.status_code)\n",
    "pprint(resp.json(), width=120)\n",
    "hnx.draw(hnx.Hypergraph(to_array_of_arrays(resp.json())))"
   ]
  },
  {
   "cell_type": "code",
   "execution_count": null,
   "id": "85dd68ba-46aa-4125-9b57-2fef5cf25465",
   "metadata": {},
   "outputs": [],
   "source": [
    "## TODO сравни то что выдает это и такая же функция без api"
   ]
  }
 ],
 "metadata": {
  "kernelspec": {
   "display_name": "accumulative_rewrite_system_kernel",
   "language": "python",
   "name": "accumulative_rewrite_system_kernel"
  },
  "language_info": {
   "codemirror_mode": {
    "name": "ipython",
    "version": 3
   },
   "file_extension": ".py",
   "mimetype": "text/x-python",
   "name": "python",
   "nbconvert_exporter": "python",
   "pygments_lexer": "ipython3",
   "version": "3.13.5"
  }
 },
 "nbformat": 4,
 "nbformat_minor": 5
}
